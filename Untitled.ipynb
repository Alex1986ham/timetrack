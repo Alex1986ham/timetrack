{
 "cells": [
  {
   "cell_type": "code",
   "execution_count": 37,
   "id": "d6712c92",
   "metadata": {},
   "outputs": [],
   "source": [
    "from datetime import date\n",
    "import numpy as np\n",
    "import sqlite3 as sql"
   ]
  },
  {
   "cell_type": "code",
   "execution_count": 41,
   "id": "4acd54c6",
   "metadata": {
    "scrolled": true
   },
   "outputs": [],
   "source": [
    "box = np.array([])"
   ]
  },
  {
   "cell_type": "code",
   "execution_count": null,
   "id": "77149c3d",
   "metadata": {},
   "outputs": [],
   "source": []
  },
  {
   "cell_type": "code",
   "execution_count": 4,
   "id": "eda46801",
   "metadata": {},
   "outputs": [],
   "source": [
    "array = []"
   ]
  },
  {
   "cell_type": "code",
   "execution_count": 25,
   "id": "15a234ff",
   "metadata": {},
   "outputs": [
    {
     "ename": "TypeError",
     "evalue": "_append_dispatcher() missing 1 required positional argument: 'values'",
     "output_type": "error",
     "traceback": [
      "\u001b[0;31m---------------------------------------------------------------------------\u001b[0m",
      "\u001b[0;31mTypeError\u001b[0m                                 Traceback (most recent call last)",
      "\u001b[0;32m/tmp/ipykernel_2327/4106956715.py\u001b[0m in \u001b[0;36m<module>\u001b[0;34m\u001b[0m\n\u001b[0;32m----> 1\u001b[0;31m \u001b[0mbox2\u001b[0m \u001b[0;34m=\u001b[0m \u001b[0mnp\u001b[0m\u001b[0;34m.\u001b[0m\u001b[0mappend\u001b[0m \u001b[0;34m(\u001b[0m\u001b[0;34m[\u001b[0m\u001b[0;34m'14.06.22'\u001b[0m\u001b[0;34m]\u001b[0m\u001b[0;34m)\u001b[0m\u001b[0;34m\u001b[0m\u001b[0;34m\u001b[0m\u001b[0m\n\u001b[0m",
      "\u001b[0;32m<__array_function__ internals>\u001b[0m in \u001b[0;36mappend\u001b[0;34m(*args, **kwargs)\u001b[0m\n",
      "\u001b[0;31mTypeError\u001b[0m: _append_dispatcher() missing 1 required positional argument: 'values'"
     ]
    }
   ],
   "source": [
    "box2 = np.append (['14.06.22'])"
   ]
  },
  {
   "cell_type": "code",
   "execution_count": 38,
   "id": "a635e385",
   "metadata": {},
   "outputs": [],
   "source": [
    "con = sql.connect(\"timetrack\")"
   ]
  },
  {
   "cell_type": "code",
   "execution_count": 39,
   "id": "97ae8a42",
   "metadata": {},
   "outputs": [
    {
     "data": {
      "text/plain": [
       "<sqlite3.Cursor at 0x7f2f54082810>"
      ]
     },
     "execution_count": 39,
     "metadata": {},
     "output_type": "execute_result"
    }
   ],
   "source": [
    "cur = con.cursor()\n",
    "cur.execute(\"\"\"create table timetrack3(\n",
    "            key integer primary key,\n",
    "            date varchar null,\n",
    "            checkin_time varchar null,\n",
    "            checkout_time varchar null);\"\"\")\n",
    "#cur.execute(\"insert into timetrack values ('14.06.2022', )\")"
   ]
  },
  {
   "cell_type": "code",
   "execution_count": 40,
   "id": "c6f1213c",
   "metadata": {},
   "outputs": [],
   "source": [
    "con = sql.connect(\"timetrack\")\n",
    "cur = con.cursor()"
   ]
  },
  {
   "cell_type": "code",
   "execution_count": 48,
   "id": "5dc26ac9",
   "metadata": {},
   "outputs": [
    {
     "name": "stdout",
     "output_type": "stream",
     "text": [
      "2022/06/15\n"
     ]
    }
   ],
   "source": [
    "arg1 = 15\n",
    "arg2 = date.today().strftime('%Y/%m/%d')\n",
    "print(arg2)"
   ]
  },
  {
   "cell_type": "code",
   "execution_count": 49,
   "id": "3d65436d",
   "metadata": {},
   "outputs": [],
   "source": [
    "cur.execute(\"insert into timetrack3 values ({}, '{}', '22:00', '19:00')\".format(arg1, arg2))\n",
    "con.commit()"
   ]
  },
  {
   "cell_type": "code",
   "execution_count": 52,
   "id": "ac786caf",
   "metadata": {},
   "outputs": [],
   "source": [
    "con.commit()\n",
    "cur.close()"
   ]
  },
  {
   "cell_type": "code",
   "execution_count": 43,
   "id": "bf4f27cd",
   "metadata": {},
   "outputs": [
    {
     "name": "stdout",
     "output_type": "stream",
     "text": [
      "(13, '22', '22:00', '19:00')\n"
     ]
    }
   ],
   "source": [
    "for row in cur.execute(\"select * from timetrack3\"):\n",
    "    print(row)"
   ]
  },
  {
   "cell_type": "code",
   "execution_count": 50,
   "id": "119a9515",
   "metadata": {},
   "outputs": [
    {
     "data": {
      "text/plain": [
       "[(13, '22', '22:00', '19:00'),\n",
       " (14, '2022/06/15', '22:00', '19:00'),\n",
       " (15, '2022/06/15', '22:00', '19:00')]"
      ]
     },
     "execution_count": 50,
     "metadata": {},
     "output_type": "execute_result"
    }
   ],
   "source": [
    "con.execute(\"\"\"\n",
    "    select * from timetrack3\n",
    "\"\"\").fetchall()"
   ]
  },
  {
   "cell_type": "code",
   "execution_count": null,
   "id": "2701243b",
   "metadata": {},
   "outputs": [],
   "source": []
  }
 ],
 "metadata": {
  "kernelspec": {
   "display_name": "Python 3 (ipykernel)",
   "language": "python",
   "name": "python3"
  },
  "language_info": {
   "codemirror_mode": {
    "name": "ipython",
    "version": 3
   },
   "file_extension": ".py",
   "mimetype": "text/x-python",
   "name": "python",
   "nbconvert_exporter": "python",
   "pygments_lexer": "ipython3",
   "version": "3.9.2"
  }
 },
 "nbformat": 4,
 "nbformat_minor": 5
}
